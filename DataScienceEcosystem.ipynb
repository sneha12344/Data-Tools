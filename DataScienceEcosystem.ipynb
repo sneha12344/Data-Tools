{
  "nbformat": 4,
  "nbformat_minor": 0,
  "metadata": {
    "colab": {
      "provenance": []
    },
    "kernelspec": {
      "name": "python3",
      "display_name": "Python 3"
    },
    "language_info": {
      "name": "python"
    }
  },
  "cells": [
    {
      "cell_type": "markdown",
      "source": [
        "Data Science Tools and Ecosystem"
      ],
      "metadata": {
        "id": "ejOARIWiBmz3"
      }
    },
    {
      "cell_type": "markdown",
      "source": [
        "In this notebook, Data Science Tools and Ecosystem are summarized."
      ],
      "metadata": {
        "id": "F0gkH4ZyCK5z"
      }
    },
    {
      "cell_type": "markdown",
      "source": [
        "Objectives:\n",
        "\n",
        "\n",
        "\n",
        "*   Popular Data Science Languages\n",
        "*   Popular Data Science Libraries\n",
        "*   Popular Data Science Tools\n",
        "\n",
        "\n",
        "\n"
      ],
      "metadata": {
        "id": "Kh51aQ3EG5Fa"
      }
    },
    {
      "cell_type": "markdown",
      "source": [
        "Some of the popular languages that Data Scientists use are:\n",
        "\n",
        "1.   R\n",
        "2.   Python\n",
        "3.   SQL\n",
        "\n"
      ],
      "metadata": {
        "id": "goqH-EjpCaTJ"
      }
    },
    {
      "cell_type": "markdown",
      "source": [
        "Some of the commonly used libraries used by Data Scientists include:\n",
        "\n",
        "\n",
        "1.   Numpy\n",
        "2.   Scikit-learn\n",
        "3.   Pandas\n"
      ],
      "metadata": {
        "id": "oBhbSOL2DBG4"
      }
    },
    {
      "cell_type": "markdown",
      "source": [
        "| Data Science Tools |\n",
        "|---|\n",
        "| Python |\n",
        "| Git |\n",
        "|Docker |"
      ],
      "metadata": {
        "id": "mBCEZLNkDkuQ"
      }
    },
    {
      "cell_type": "markdown",
      "source": [
        "Below are a few examples of evaluating arithmetic expressions in Python\n"
      ],
      "metadata": {
        "id": "Q7PemQztFSJg"
      }
    },
    {
      "cell_type": "code",
      "execution_count": 2,
      "metadata": {
        "colab": {
          "base_uri": "https://localhost:8080/"
        },
        "id": "_CAppiiFBIyR",
        "outputId": "76492070-75d3-4f7e-d20c-e68c622c03ec"
      },
      "outputs": [
        {
          "output_type": "execute_result",
          "data": {
            "text/plain": [
              "17"
            ]
          },
          "metadata": {},
          "execution_count": 2
        }
      ],
      "source": [
        "#This a simple arithmetic expression to mutiply then add integers\n",
        "(3*4)+5"
      ]
    },
    {
      "cell_type": "code",
      "source": [
        "#This will convert 200 minutes to hours by diving by 60\n",
        "min=200\n",
        "hours=200/60\n",
        "print(hours)"
      ],
      "metadata": {
        "colab": {
          "base_uri": "https://localhost:8080/"
        },
        "id": "1iTxDcW5GXcR",
        "outputId": "afe13db5-c2c0-4fe3-84f1-f2c3487c65d9"
      },
      "execution_count": 3,
      "outputs": [
        {
          "output_type": "stream",
          "name": "stdout",
          "text": [
            "3.3333333333333335\n"
          ]
        }
      ]
    },
    {
      "cell_type": "markdown",
      "source": [
        "Author- Sneha V"
      ],
      "metadata": {
        "id": "zDh1aC6tHjRn"
      }
    }
  ]
}